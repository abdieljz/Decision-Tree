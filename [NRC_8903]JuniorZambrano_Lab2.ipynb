{
 "cells": [
  {
   "cell_type": "code",
   "execution_count": 1,
   "id": "b8e48184",
   "metadata": {},
   "outputs": [
    {
     "name": "stdout",
     "output_type": "stream",
     "text": [
      "Using matplotlib backend: nbAgg\n"
     ]
    }
   ],
   "source": [
    "'''Importar los módulos necesarios'''\n",
    "import pandas\n",
    "from sklearn import tree\n",
    "import pydotplus\n",
    "from sklearn.tree import DecisionTreeClassifier\n",
    "%matplotlib notebook\n",
    "import matplotlib.pyplot as plt\n",
    "import matplotlib.image as pltimg\n",
    "import graphviz\n",
    "%matplotlib \n",
    "import networkx as nx\n",
    "from networkx.drawing.nx_pydot import write_dot"
   ]
  },
  {
   "cell_type": "code",
   "execution_count": 5,
   "id": "8e988793",
   "metadata": {},
   "outputs": [
    {
     "name": "stdout",
     "output_type": "stream",
     "text": [
      "     Edad     Genero  Amabilidad  Social  Comunicativo  Bondadoso  Divertido  \\\n",
      "0      23   Femenino           7       8             5          4          7   \n",
      "1      26  Masculino           6       6             8          5          8   \n",
      "2      27   Femenino           4       6             7          7          5   \n",
      "3      27   Femenino           6       7             8          6          8   \n",
      "4      25  Masculino           8       4             5          8          5   \n",
      "..    ...        ...         ...     ...           ...        ...        ...   \n",
      "995    45   Femenino           6       5             6          8          8   \n",
      "996    39  Masculino           1       4             4          6          6   \n",
      "997    44  Masculino           5       1             4          1          5   \n",
      "998    37   Femenino           7       6             4          6          6   \n",
      "999    39  Masculino           1       4             4          6          6   \n",
      "\n",
      "      Animo  \n",
      "0    Alegre  \n",
      "1    Triste  \n",
      "2    Triste  \n",
      "3    Triste  \n",
      "4    Normal  \n",
      "..      ...  \n",
      "995  Triste  \n",
      "996  Normal  \n",
      "997  Normal  \n",
      "998  Normal  \n",
      "999  Normal  \n",
      "\n",
      "[1000 rows x 8 columns]\n"
     ]
    }
   ],
   "source": [
    "'''#Lectura del dataset e imprime el dataset'''\n",
    "\n",
    "df = pandas.read_csv('Dataset_Estado.csv')    \n",
    "print(df)  "
   ]
  },
  {
   "cell_type": "code",
   "execution_count": 6,
   "id": "1aff9a4d",
   "metadata": {},
   "outputs": [
    {
     "name": "stdout",
     "output_type": "stream",
     "text": [
      "Genero: \n",
      " 0      0\n",
      "1      1\n",
      "2      0\n",
      "3      0\n",
      "4      1\n",
      "      ..\n",
      "995    0\n",
      "996    1\n",
      "997    1\n",
      "998    0\n",
      "999    1\n",
      "Name: Genero, Length: 1000, dtype: int64\n",
      "Animo \n",
      " 0      0\n",
      "1      1\n",
      "2      1\n",
      "3      1\n",
      "4      2\n",
      "      ..\n",
      "995    1\n",
      "996    2\n",
      "997    2\n",
      "998    2\n",
      "999    2\n",
      "Name: Animo, Length: 1000, dtype: int64\n"
     ]
    }
   ],
   "source": [
    "'''Función para convertir valores de cadena en numéricos, se toma la segunda columna del dataset y se transforma los valores de  género en 1 y 0 en el cambio_valores(d1, d5) '''\n",
    "\n",
    "d1 = {'Masculino': 1, 'Femenino': 0}\n",
    "df['Genero'] = df['Genero'].map(d1)   \n",
    "\n",
    "'''Se guarda el contenido en una variable, Se imprime el título para la columna'''\n",
    "res=df['Genero']             \n",
    "print(\"Genero: \\n\", res)              \n",
    "    \n",
    "'''Se toma la sexta columna del dataset y se transforma los valores de las categorías de personalidad en 0, 1 y 2'''\n",
    "d5 = {'Alegre': 0, 'Triste': 1, 'Normal': 2}\n",
    "df['Animo'] = df['Animo'].map(d5)\n",
    "\n",
    "'''Se guarda el contenido en una variable, Se imprime el título para la columna'''\n",
    "res2=df['Animo']         \n",
    "print(\"Animo \\n\", res2)      "
   ]
  },
  {
   "cell_type": "code",
   "execution_count": null,
   "id": "ba41ee61",
   "metadata": {},
   "outputs": [],
   "source": [
    "'''Elegir las características, es decir, las columnas a partir de las cuales intentamos predecir Se debe colocar en la entrada de la función, las variables que se van a usar'''\n",
    "\n",
    "features = ['Amabilidad', 'Social', 'Comunicativo', 'Bondadoso', 'Divertido']\n",
    "\n",
    "x = df[features]\n",
    "y = df['Animo']\n",
    "\n",
    "'''Se crea el árbol de decisión delimitando el arbol a maximo 2 hijos'''\n",
    "\n",
    "dtree = DecisionTreeClassifier(max_depth=2)\n",
    "    \n",
    "'''Se guarda el árbol en una varibale y #se retorna la variable que contiene los valores del árb'''\n",
    "\n",
    "dtree = dtree.fit(x, y)    "
   ]
  },
  {
   "cell_type": "code",
   "execution_count": null,
   "id": "e84a618c",
   "metadata": {},
   "outputs": [],
   "source": []
  }
 ],
 "metadata": {
  "kernelspec": {
   "display_name": "Python 3 (ipykernel)",
   "language": "python",
   "name": "python3"
  },
  "language_info": {
   "codemirror_mode": {
    "name": "ipython",
    "version": 3
   },
   "file_extension": ".py",
   "mimetype": "text/x-python",
   "name": "python",
   "nbconvert_exporter": "python",
   "pygments_lexer": "ipython3",
   "version": "3.9.12"
  }
 },
 "nbformat": 4,
 "nbformat_minor": 5
}
