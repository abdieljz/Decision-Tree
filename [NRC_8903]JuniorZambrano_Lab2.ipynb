{
 "cells": [
  {
   "cell_type": "code",
   "execution_count": 1,
   "id": "0122a03f",
   "metadata": {},
   "outputs": [
    {
     "name": "stdout",
     "output_type": "stream",
     "text": [
      "Using matplotlib backend: nbAgg\n"
     ]
    }
   ],
   "source": [
    "'''Importar los módulos necesarios'''\n",
    "import pandas\n",
    "from sklearn import tree\n",
    "import pydotplus\n",
    "from sklearn.tree import DecisionTreeClassifier\n",
    "%matplotlib notebook\n",
    "import matplotlib.pyplot as plt\n",
    "import matplotlib.image as pltimg\n",
    "import graphviz\n",
    "%matplotlib \n",
    "import networkx as nx\n",
    "from networkx.drawing.nx_pydot import write_dot"
   ]
  },
  {
   "cell_type": "code",
   "execution_count": 3,
   "id": "c49a61d7",
   "metadata": {},
   "outputs": [
    {
     "name": "stdout",
     "output_type": "stream",
     "text": [
      "     Edad     Genero  Amabilidad  Social  Comunicativo  Bondadoso  Divertido  \\\n",
      "0      23   Femenino           7       8             5          4          7   \n",
      "1      26  Masculino           6       6             8          5          8   \n",
      "2      27   Femenino           4       6             7          7          5   \n",
      "3      27   Femenino           6       7             8          6          8   \n",
      "4      25  Masculino           8       4             5          8          5   \n",
      "..    ...        ...         ...     ...           ...        ...        ...   \n",
      "994    47   Femenino           5       6             6          5          5   \n",
      "995    45   Femenino           6       5             6          8          8   \n",
      "996    39  Masculino           1       4             4          6          6   \n",
      "997    44  Masculino           5       1             4          1          5   \n",
      "998    37   Femenino           7       6             4          6          6   \n",
      "\n",
      "      Animo  \n",
      "0    Alegre  \n",
      "1    Triste  \n",
      "2    Triste  \n",
      "3    Triste  \n",
      "4    Normal  \n",
      "..      ...  \n",
      "994  Triste  \n",
      "995  Triste  \n",
      "996  Normal  \n",
      "997  Normal  \n",
      "998  Normal  \n",
      "\n",
      "[999 rows x 8 columns]\n"
     ]
    }
   ],
   "source": [
    "'''#Lectura del dataset e imprime el dataset'''\n",
    "\n",
    "df = pandas.read_csv('Dataset_Estado.csv')    \n",
    "print(df)  "
   ]
  },
  {
   "cell_type": "code",
   "execution_count": 4,
   "id": "b904e0ed",
   "metadata": {},
   "outputs": [
    {
     "name": "stdout",
     "output_type": "stream",
     "text": [
      "Genero: \n",
      " 0      0\n",
      "1      1\n",
      "2      0\n",
      "3      0\n",
      "4      1\n",
      "      ..\n",
      "994    0\n",
      "995    0\n",
      "996    1\n",
      "997    1\n",
      "998    0\n",
      "Name: Genero, Length: 999, dtype: int64\n",
      "Animo \n",
      " 0      0\n",
      "1      1\n",
      "2      1\n",
      "3      1\n",
      "4      2\n",
      "      ..\n",
      "994    1\n",
      "995    1\n",
      "996    2\n",
      "997    2\n",
      "998    2\n",
      "Name: Animo, Length: 999, dtype: int64\n"
     ]
    }
   ],
   "source": [
    "'''Función para convertir valores de cadena en numéricos, se toma la segunda columna del dataset y se transforma los valores de  género en 1 y 0 en el cambio_valores(d1, d5) '''\n",
    "\n",
    "d1 = {'Masculino': 1, 'Femenino': 0}\n",
    "df['Genero'] = df['Genero'].map(d1)   \n",
    "\n",
    "'''Se guarda el contenido en una variable, Se imprime el título para la columna'''\n",
    "res=df['Genero']             \n",
    "print(\"Genero: \\n\", res)              \n",
    "    \n",
    "'''Se toma la sexta columna del dataset y se transforma los valores de las categorías de personalidad en 0, 1 y 2'''\n",
    "d5 = {'Alegre': 0, 'Triste': 1, 'Normal': 2}\n",
    "df['Animo'] = df['Animo'].map(d5)\n",
    "\n",
    "'''Se guarda el contenido en una variable, Se imprime el título para la columna'''\n",
    "res2=df['Animo']         \n",
    "print(\"Animo \\n\", res2)      "
   ]
  },
  {
   "cell_type": "code",
   "execution_count": null,
   "id": "5fca7c25",
   "metadata": {},
   "outputs": [],
   "source": []
  },
  {
   "cell_type": "code",
   "execution_count": null,
   "id": "8cacf05e",
   "metadata": {},
   "outputs": [],
   "source": []
  }
 ],
 "metadata": {
  "kernelspec": {
   "display_name": "Python 3 (ipykernel)",
   "language": "python",
   "name": "python3"
  },
  "language_info": {
   "codemirror_mode": {
    "name": "ipython",
    "version": 3
   },
   "file_extension": ".py",
   "mimetype": "text/x-python",
   "name": "python",
   "nbconvert_exporter": "python",
   "pygments_lexer": "ipython3",
   "version": "3.9.12"
  }
 },
 "nbformat": 4,
 "nbformat_minor": 5
}
